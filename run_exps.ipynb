{
 "cells": [
  {
   "cell_type": "code",
   "execution_count": 3,
   "metadata": {},
   "outputs": [],
   "source": [
    "dataset_names = {0:'usps',\\\n",
    "                 1:'satimage.scale',\\\n",
    "                 2:'dna.scale',\\\n",
    "                 3:'letter.scale',\\\n",
    "                 4:'pendigits',\\\n",
    "                 5:'news20.scale',\\\n",
    "                 6:'sector.scale',\\\n",
    "                 7:'mnist.scale',\\\n",
    "                 8:'cifar10',\\\n",
    "                 9:'toy',\\\n",
    "                 10:'rcv1',\\\n",
    "                 11:'aloi.scale'\\\n",
    "                }\n",
    "\n",
    "regs = {'usps':.1,\\\n",
    "        'satimage.scale':1,\\\n",
    "        'dna.scale':1,\\\n",
    "        'letter.scale':.1,\\\n",
    "        'pendigits':.01,\\\n",
    "        'news20.scale':.1,\\\n",
    "        'sector.scale':1,\\\n",
    "        'mnist.scale':.01,\\\n",
    "        'cifar10':1,\\\n",
    "        'toy':1,\\\n",
    "        'rcv1':1,\\\n",
    "        'aloi.scale':.01\\\n",
    "       }\n",
    "\n",
    "\n",
    "iters = {'usps':2048,\\\n",
    "         'satimage.scale':64,\\\n",
    "         'dna.scale':512,\\\n",
    "         'letter.scale':64,\\\n",
    "         'pendigits':8192,\\\n",
    "         'news20.scale':32,\\\n",
    "         'sector.scale':32,\\\n",
    "         'mnist.scale':64,\\\n",
    "         'cifar10':32,\\\n",
    "         'toy':32,\\\n",
    "         'rcv1':32,\\\n",
    "         'aloi.scale':32\\\n",
    "       }\n",
    "import numpy as np\n",
    "import matplotlib\n",
    "import matplotlib.pyplot as plt\n",
    "import os\n",
    "import re\n",
    "import math"
   ]
  },
  {
   "cell_type": "code",
   "execution_count": 4,
   "metadata": {
    "scrolled": false
   },
   "outputs": [
    {
     "data": {
      "text/plain": [
       "'aloi.scale'"
      ]
     },
     "execution_count": 4,
     "metadata": {},
     "output_type": "execute_result"
    }
   ],
   "source": [
    "ds = dataset_names[11]\n",
    "ds"
   ]
  },
  {
   "cell_type": "code",
   "execution_count": 5,
   "metadata": {},
   "outputs": [],
   "source": [
    "def run_experiment(dataset_name, regularizer, num_iterations, variant):\n",
    "    if variant == \"WW\":\n",
    "        FILENAME = 'results/' + dataset_name + '_RC'\n",
    "        COMMAND = './train -s 30 -c ' + str(regularizer) + ' -t ' + str(num_iterations) + ' data/' + dataset_name + ' >> '+ FILENAME\n",
    "    elif variant == \"Shark\":\n",
    "        FILENAME = 'results/' + dataset_name + '_Shark'\n",
    "        COMMAND = './train -s 31 -c ' + str(regularizer) + ' -t ' + str(num_iterations) + ' data/' + dataset_name + ' >> '+ FILENAME\n",
    "    else:\n",
    "        print(\"Invalid variant\")\n",
    "        return\n",
    "    os.system('rm ' + FILENAME)\n",
    "    os.system(COMMAND)"
   ]
  },
  {
   "cell_type": "code",
   "execution_count": 6,
   "metadata": {},
   "outputs": [],
   "source": [
    "run_experiment(ds, regs[ds], iters[ds], \"WW\")"
   ]
  },
  {
   "cell_type": "code",
   "execution_count": null,
   "metadata": {},
   "outputs": [],
   "source": [
    "run_experiment(ds, regs[ds], iters[ds], \"Shark\")"
   ]
  },
  {
   "cell_type": "code",
   "execution_count": null,
   "metadata": {},
   "outputs": [],
   "source": [
    "def get_results(FILENAME):\n",
    "    f = open(FILENAME, \"r\")\n",
    "    lines = f.readlines()\n",
    "    extract_nums = lambda x: re.findall(r'\\d*\\.?\\d*',x)\n",
    "    process_data = lambda line: map(float,filter(lambda x: len(x) > 0 , extract_nums(line)))\n",
    "\n",
    "    result_np = np.array(map(process_data, lines))\n",
    "    result_np[:,0] = result_np[:,0]/1000\n",
    "    new_col =result_np[:,1] - result_np[:,2]\n",
    "    new_col = new_col.reshape(len(new_col),1)\n",
    "    new_col.shape\n",
    "\n",
    "    result_np = np.append(result_np, new_col, 1)\n",
    "    return result_np"
   ]
  },
  {
   "cell_type": "code",
   "execution_count": null,
   "metadata": {},
   "outputs": [],
   "source": [
    "result_RC = get_results(\"results/\"+ds+'_RC')\n",
    "result_Shark = get_results(\"results/\"+ds+'_Shark')"
   ]
  },
  {
   "cell_type": "code",
   "execution_count": null,
   "metadata": {},
   "outputs": [],
   "source": [
    "colnames = ['time (sec)', 'sum of dual vars', 'norm/2', 'C*hinge risk', 'primal obj', 'dual obj']\n",
    "cn = {colnames[i] : i for i in xrange(len(colnames))}"
   ]
  },
  {
   "cell_type": "code",
   "execution_count": null,
   "metadata": {},
   "outputs": [],
   "source": [
    "\n",
    "fig, ax = plt.subplots()\n",
    "ax.semilogx(result_RC[:,cn['time (sec)']],\\\n",
    "            result_RC[:,cn['primal obj']],\\\n",
    "            linestyle='-', \\\n",
    "            color='k')\n",
    "ax.semilogx(result_RC[:,cn['time (sec)']], \\\n",
    "            result_RC[:,cn['dual obj']], \\\n",
    "            linestyle='--', \\\n",
    "            color='k')\n",
    "\n",
    "orange = (0.9,0.6,0)\n",
    "ax.semilogx(result_Shark[:,cn['time (sec)']], \\\n",
    "            result_Shark[:,cn['primal obj']], \\\n",
    "            linestyle = '-.', \\\n",
    "            color = orange,\\\n",
    "            linewidth = 2)\n",
    "ax.semilogx(result_Shark[:,cn['time (sec)']],\\\n",
    "            result_Shark[:,cn['dual obj']],\\\n",
    "            linestyle = ':', \\\n",
    "            color = orange,\\\n",
    "            linewidth = 2)\n",
    "\n",
    "plt.xlabel(\"Time (sec)\")\n",
    "plt.ylabel(\"Objective value\")\n",
    "plt.title(ds + ', C = ' + str(regs[ds]))\n",
    "ax.legend(['IC primal','IC dual','Shark primal','Shark dual'])\n",
    "plt.savefig('figures/' + ds + '_' + str(int(math.log10(regs[ds])))+'_ob.eps',format='eps')"
   ]
  },
  {
   "cell_type": "code",
   "execution_count": null,
   "metadata": {},
   "outputs": [],
   "source": [
    "\n",
    "\n",
    "fig, ax = plt.subplots()\n",
    "ax.loglog(result_RC[:,cn['time (sec)']],\\\n",
    "            result_RC[:,cn['primal obj']]-result_RC[:,cn['dual obj']] ,\\\n",
    "            linestyle='-', \\\n",
    "            color='k')\n",
    "\n",
    "orange = (0.9,0.6,0)\n",
    "ax.loglog(result_Shark[:,cn['time (sec)']], \\\n",
    "            result_Shark[:,cn['primal obj']]-result_Shark[:,cn['dual obj']], \\\n",
    "            linestyle = '-.', \\\n",
    "            color = orange,\\\n",
    "            linewidth = 2)\n",
    "\n",
    "plt.xlabel(\"Time (sec)\")\n",
    "plt.ylabel(\"Duality gap\")\n",
    "plt.title(ds + ', C = ' +str(regs[ds]))\n",
    "ax.legend(['IC','Shark'])\n",
    "plt.savefig('figures/'+ds+'_'+ str(int(math.log10(regs[ds])))+'_dg.eps',format='eps')"
   ]
  }
 ],
 "metadata": {
  "kernelspec": {
   "display_name": "Python 2",
   "language": "python",
   "name": "python2"
  },
  "language_info": {
   "codemirror_mode": {
    "name": "ipython",
    "version": 2
   },
   "file_extension": ".py",
   "mimetype": "text/x-python",
   "name": "python",
   "nbconvert_exporter": "python",
   "pygments_lexer": "ipython2",
   "version": "2.7.17"
  }
 },
 "nbformat": 4,
 "nbformat_minor": 2
}
