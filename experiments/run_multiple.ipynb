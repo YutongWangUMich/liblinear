{
 "cells": [
  {
   "cell_type": "code",
   "execution_count": 38,
   "metadata": {},
   "outputs": [],
   "source": [
    "import numpy as np\n",
    "import matplotlib\n",
    "import matplotlib.pyplot as plt\n",
    "import os\n",
    "import re\n",
    "import math"
   ]
  },
  {
   "cell_type": "code",
   "execution_count": 39,
   "metadata": {},
   "outputs": [
    {
     "data": {
      "text/plain": [
       "'/Users/girasole/liblinear'"
      ]
     },
     "execution_count": 39,
     "metadata": {},
     "output_type": "execute_result"
    }
   ],
   "source": [
    "if \"original_dir\" not in locals():\n",
    "    original_dir = os.getcwd()\n",
    "os.chdir(original_dir)\n",
    "os.chdir('..')\n",
    "os.getcwd()"
   ]
  },
  {
   "cell_type": "code",
   "execution_count": 40,
   "metadata": {},
   "outputs": [],
   "source": [
    "dataset_names = {0:'usps',\\\n",
    "                 1:'satimage.scale',\\\n",
    "                 2:'dna.scale',\\\n",
    "                 3:'letter.scale',\\\n",
    "                 4:'pendigits',\\\n",
    "                 5:'news20.scale',\\\n",
    "                 6:'sector.scale',\\\n",
    "                 7:'mnist.scale',\\\n",
    "                 8:'cifar10',\\\n",
    "                 9:'toy',\\\n",
    "                 10:'rcv1',\\\n",
    "                 11:'aloi.scale'\\\n",
    "                }\n",
    "\n",
    "nr_classes = {'usps':10,\\\n",
    "              'satimage.scale':6,\\\n",
    "              'dna.scale':3,\\\n",
    "              'letter.scale':.26,\\\n",
    "              'pendigits':10,\\\n",
    "              'news20.scale':20,\\\n",
    "              'sector.scale':105,\\\n",
    "              'mnist.scale':10,\\\n",
    "              'cifar10':10,\\\n",
    "              'toy':3,\\\n",
    "              'rcv1':53,\\\n",
    "              'aloi.scale':1000\\\n",
    "             }\n",
    "\n",
    "# as powers of ten\n",
    "regs = {'usps':.1,\\\n",
    "        'satimage.scale':1,\\\n",
    "        'dna.scale':1,\\\n",
    "        'letter.scale':.1,\\\n",
    "        'pendigits':.01,\\\n",
    "        'news20.scale':.1,\\\n",
    "        'sector.scale':1,\\\n",
    "        'mnist.scale':.01,\\\n",
    "        'cifar10':1,\\\n",
    "        'toy':1,\\\n",
    "        'rcv1':1,\\\n",
    "        'aloi.scale':.01\\\n",
    "       }\n",
    "\n",
    "\n",
    "iters = {'usps':2048,\\\n",
    "         'satimage.scale':64,\\\n",
    "         'dna.scale':1024,\\\n",
    "         'letter.scale':64,\\\n",
    "         'pendigits':8192,\\\n",
    "         'news20.scale':32,\\\n",
    "         'sector.scale':32,\\\n",
    "         'mnist.scale':64,\\\n",
    "         'cifar10':32,\\\n",
    "         'toy':32,\\\n",
    "         'rcv1':32,\\\n",
    "         'aloi.scale':32\\\n",
    "       }\n"
   ]
  },
  {
   "cell_type": "code",
   "execution_count": 41,
   "metadata": {},
   "outputs": [],
   "source": [
    "run_these_datasets = [2,1]\n",
    "run_these_hyperparams = [10,1,0.1,0.01]"
   ]
  },
  {
   "cell_type": "code",
   "execution_count": 42,
   "metadata": {},
   "outputs": [],
   "source": [
    "def run_experiment(dataset_name, regularizer, num_iterations, variant):\n",
    "    if variant == \"Ours\":\n",
    "        FILENAME = 'results/Ours/' + get_exp_name(dataset_name, regularizer)\n",
    "        COMMAND = './train -s 30 -c ' + str(regularizer) + ' -t ' + str(num_iterations) + ' data/' + dataset_name + ' >> '+ FILENAME\n",
    "    elif variant == \"Shark\":\n",
    "        FILENAME = 'results/Shark/' + get_exp_name(dataset_name, regularizer)\n",
    "        COMMAND = './train -s 31 -c ' + str(regularizer) + ' -t ' + str(num_iterations) + ' data/' + dataset_name + ' >> '+ FILENAME\n",
    "    else:\n",
    "        print(\"Invalid variant\")\n",
    "        return\n",
    "    os.system('rm ' + FILENAME)\n",
    "    os.system(COMMAND)\n",
    "    \n",
    "    \n",
    "def get_exp_name(ds, reg):\n",
    "    return ds+'_'+ str(int(math.log10(reg)))+'.csv'"
   ]
  },
  {
   "cell_type": "code",
   "execution_count": 43,
   "metadata": {},
   "outputs": [
    {
     "name": "stdout",
     "output_type": "stream",
     "text": [
      "usps_1.csv\n",
      "usps_0.csv\n",
      "usps_-1.csv\n"
     ]
    }
   ],
   "source": [
    "for C in run_these_hyperparams:\n",
    "    print(get_exp_name(dataset_names[0], 1*C))"
   ]
  },
  {
   "cell_type": "code",
   "execution_count": 44,
   "metadata": {},
   "outputs": [
    {
     "name": "stdout",
     "output_type": "stream",
     "text": [
      "dna.scale\n",
      "10\n",
      "dna.scale\n",
      "1\n",
      "dna.scale\n",
      "0.1\n",
      "satimage.scale\n",
      "10\n",
      "satimage.scale\n",
      "1\n",
      "satimage.scale\n",
      "0.1\n"
     ]
    }
   ],
   "source": [
    "for i in run_these_datasets:\n",
    "    for C in run_these_hyperparams:\n",
    "        print(dataset_names[i])\n",
    "        print(C)\n",
    "        ds = dataset_names[i]\n",
    "        run_experiment(ds, C*regs[ds], iters[ds], \"Ours\")\n",
    "        run_experiment(ds, C*regs[ds], iters[ds], \"Shark\")"
   ]
  }
 ],
 "metadata": {
  "kernelspec": {
   "display_name": "Python 2",
   "language": "python",
   "name": "python2"
  },
  "language_info": {
   "codemirror_mode": {
    "name": "ipython",
    "version": 2
   },
   "file_extension": ".py",
   "mimetype": "text/x-python",
   "name": "python",
   "nbconvert_exporter": "python",
   "pygments_lexer": "ipython2",
   "version": "2.7.17"
  }
 },
 "nbformat": 4,
 "nbformat_minor": 2
}
