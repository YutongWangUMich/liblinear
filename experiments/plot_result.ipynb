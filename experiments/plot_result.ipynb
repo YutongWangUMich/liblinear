{
 "cells": [
  {
   "cell_type": "code",
   "execution_count": 25,
   "metadata": {},
   "outputs": [],
   "source": [
    "import numpy as np\n",
    "import matplotlib\n",
    "import matplotlib.pyplot as plt\n",
    "import os\n",
    "import re\n",
    "import math"
   ]
  },
  {
   "cell_type": "code",
   "execution_count": 26,
   "metadata": {},
   "outputs": [],
   "source": [
    "dataset_names = {0:'usps',\\\n",
    "                 1:'satimage.scale',\\\n",
    "                 2:'dna.scale',\\\n",
    "                 3:'letter.scale',\\\n",
    "                 4:'pendigits',\\\n",
    "                 5:'news20.scale',\\\n",
    "                 6:'sector.scale',\\\n",
    "                 7:'mnist.scale',\\\n",
    "                 8:'cifar10',\\\n",
    "                 9:'toy',\\\n",
    "                 10:'rcv1',\\\n",
    "                 11:'aloi.scale'\\\n",
    "                }\n",
    "\n",
    "nr_classes = {'usps':10,\\\n",
    "              'satimage.scale':6,\\\n",
    "              'dna.scale':3,\\\n",
    "              'letter.scale':.26,\\\n",
    "              'pendigits':10,\\\n",
    "              'news20.scale':20,\\\n",
    "              'sector.scale':105,\\\n",
    "              'mnist.scale':10,\\\n",
    "              'cifar10':10,\\\n",
    "              'toy':3,\\\n",
    "              'rcv1':53,\\\n",
    "              'aloi.scale':1000\\\n",
    "             }\n",
    "\n",
    "# as powers of ten\n",
    "regs = {'usps':.1,\\\n",
    "        'satimage.scale':1,\\\n",
    "        'dna.scale':1,\\\n",
    "        'letter.scale':.1,\\\n",
    "        'pendigits':.01,\\\n",
    "        'news20.scale':.1,\\\n",
    "        'sector.scale':1,\\\n",
    "        'mnist.scale':.01,\\\n",
    "        'cifar10':1,\\\n",
    "        'toy':1,\\\n",
    "        'rcv1':1,\\\n",
    "        'aloi.scale':.01\\\n",
    "       }\n",
    "\n",
    "\n",
    "iters = {'usps':2048,\\\n",
    "         'satimage.scale':64,\\\n",
    "         'dna.scale':1024,\\\n",
    "         'letter.scale':64,\\\n",
    "         'pendigits':8192,\\\n",
    "         'news20.scale':32,\\\n",
    "         'sector.scale':32,\\\n",
    "         'mnist.scale':64,\\\n",
    "         'cifar10':32,\\\n",
    "         'toy':32,\\\n",
    "         'rcv1':32,\\\n",
    "         'aloi.scale':32\\\n",
    "       }\n"
   ]
  },
  {
   "cell_type": "code",
   "execution_count": 27,
   "metadata": {},
   "outputs": [
    {
     "data": {
      "text/plain": [
       "'/Users/girasole/liblinear'"
      ]
     },
     "execution_count": 27,
     "metadata": {},
     "output_type": "execute_result"
    }
   ],
   "source": [
    "if \"original_dir\" not in locals():\n",
    "    original_dir = os.getcwd()\n",
    "os.chdir(original_dir)\n",
    "os.chdir('..')\n",
    "os.getcwd()"
   ]
  },
  {
   "cell_type": "code",
   "execution_count": 28,
   "metadata": {},
   "outputs": [],
   "source": [
    "def get_results(FILENAME):\n",
    "#     f = open(FILENAME, \"r\")\n",
    "    from numpy import genfromtxt\n",
    "    result_np = genfromtxt(FILENAME, delimiter=',')\n",
    "\n",
    "    result_np[:,0] = result_np[:,0]/1000\n",
    "    new_col =result_np[:,1] - result_np[:,2]\n",
    "    new_col = new_col.reshape(len(new_col),1)\n",
    "    new_col.shape\n",
    "\n",
    "    result_np = np.append(result_np, new_col, 1)\n",
    "    return result_np"
   ]
  },
  {
   "cell_type": "code",
   "execution_count": 29,
   "metadata": {},
   "outputs": [
    {
     "data": {
      "text/plain": [
       "'satimage.scale'"
      ]
     },
     "execution_count": 29,
     "metadata": {},
     "output_type": "execute_result"
    }
   ],
   "source": [
    "ds = dataset_names[1]\n",
    "ds"
   ]
  },
  {
   "cell_type": "code",
   "execution_count": 30,
   "metadata": {},
   "outputs": [
    {
     "data": {
      "text/plain": [
       "'satimage.scale_-1.csv'"
      ]
     },
     "execution_count": 30,
     "metadata": {},
     "output_type": "execute_result"
    }
   ],
   "source": [
    "def get_exp_name(ds, reg):\n",
    "    return ds+'_'+ str(int(math.log10(reg)))+'.csv'\n",
    "exp_name = get_exp_name(ds,.1*regs[ds])\n",
    "exp_name"
   ]
  },
  {
   "cell_type": "code",
   "execution_count": 31,
   "metadata": {},
   "outputs": [],
   "source": [
    "result_RC = get_results(\"results/Ours/\"+exp_name)\n",
    "result_Shark = get_results(\"results/Shark/\"+exp_name)"
   ]
  },
  {
   "cell_type": "code",
   "execution_count": 32,
   "metadata": {},
   "outputs": [],
   "source": [
    "colnames = ['time (sec)', 'sum of dual vars', 'norm/2', 'C*hinge risk', 'primal obj', 'dual obj']\n",
    "cn = {colnames[i] : i for i in range(len(colnames))}"
   ]
  },
  {
   "cell_type": "code",
   "execution_count": 33,
   "metadata": {},
   "outputs": [
    {
     "data": {
      "image/png": "[encoded data removed]",
      "text/plain": [
       "<Figure size 432x288 with 1 Axes>"
      ]
     },
     "metadata": {
      "needs_background": "light"
     },
     "output_type": "display_data"
    }
   ],
   "source": [
    "\n",
    "fig, ax = plt.subplots()\n",
    "ax.semilogx(result_RC[:,cn['time (sec)']],\\\n",
    "            result_RC[:,cn['primal obj']],\\\n",
    "            linestyle='-', \\\n",
    "            color='k')\n",
    "ax.semilogx(result_RC[:,cn['time (sec)']], \\\n",
    "            result_RC[:,cn['dual obj']], \\\n",
    "            linestyle='--', \\\n",
    "            color='k')\n",
    "\n",
    "orange = (0.9,0.6,0)\n",
    "ax.semilogx(result_Shark[:,cn['time (sec)']], \\\n",
    "            result_Shark[:,cn['primal obj']], \\\n",
    "            linestyle = '-.', \\\n",
    "            color = orange,\\\n",
    "            linewidth = 2)\n",
    "ax.semilogx(result_Shark[:,cn['time (sec)']],\\\n",
    "            result_Shark[:,cn['dual obj']],\\\n",
    "            linestyle = ':', \\\n",
    "            color = orange,\\\n",
    "            linewidth = 2)\n",
    "\n",
    "plt.xlabel(\"Time (sec)\")\n",
    "plt.ylabel(\"Objective value\")\n",
    "plt.title(ds + ', k = ' + str(nr_classes[ds]) +', C = ' +str(regs[ds]))\n",
    "ax.legend(['IC primal','IC dual','Shark primal','Shark dual'])\n",
    "plt.savefig('figures/' + ds + '_' + str(int(math.log10(regs[ds])))+'_ob.eps',format='eps')"
   ]
  },
  {
   "cell_type": "code",
   "execution_count": 34,
   "metadata": {},
   "outputs": [
    {
     "data": {
      "image/png": "[encoded data removed]",
      "text/plain": [
       "<Figure size 432x288 with 1 Axes>"
      ]
     },
     "metadata": {
      "needs_background": "light"
     },
     "output_type": "display_data"
    }
   ],
   "source": [
    "\n",
    "\n",
    "fig, ax = plt.subplots()\n",
    "ax.loglog(result_RC[:,cn['time (sec)']],\\\n",
    "            result_RC[:,cn['primal obj']]-result_RC[:,cn['dual obj']] ,\\\n",
    "            linestyle='-', \\\n",
    "            color='k')\n",
    "\n",
    "orange = (0.9,0.6,0)\n",
    "ax.loglog(result_Shark[:,cn['time (sec)']], \\\n",
    "            result_Shark[:,cn['primal obj']]-result_Shark[:,cn['dual obj']], \\\n",
    "            linestyle = '-.', \\\n",
    "            color = orange,\\\n",
    "            linewidth = 2)\n",
    "\n",
    "plt.xlabel(\"Time (sec)\")\n",
    "plt.ylabel(\"Duality gap\")\n",
    "plt.title(ds + ', k = ' + str(nr_classes[ds]) +', C = ' +str(regs[ds]))\n",
    "ax.legend(['IC','Shark'])\n",
    "plt.savefig('figures/'+ds+'_'+ str(int(math.log10(regs[ds])))+'_dg.eps',format='eps')"
   ]
  }
 ],
 "metadata": {
  "kernelspec": {
   "display_name": "Python 2",
   "language": "python",
   "name": "python2"
  },
  "language_info": {
   "codemirror_mode": {
    "name": "ipython",
    "version": 2
   },
   "file_extension": ".py",
   "mimetype": "text/x-python",
   "name": "python",
   "nbconvert_exporter": "python",
   "pygments_lexer": "ipython2",
   "version": "2.7.17"
  }
 },
 "nbformat": 4,
 "nbformat_minor": 2
}
