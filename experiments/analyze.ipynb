{
 "cells": [
  {
   "cell_type": "code",
   "execution_count": 247,
   "metadata": {},
   "outputs": [],
   "source": [
    "dataset_names = {0:'usps',\\\n",
    "                 1:'satimage.scale',\\\n",
    "                 2:'dna.scale',\\\n",
    "                 3:'letter.scale',\\\n",
    "                 4:'pendigits',\\\n",
    "                 5:'news20.scale',\\\n",
    "                 6:'sector.scale',\\\n",
    "                 7:'mnist.scale',\\\n",
    "                 8:'cifar10',\\\n",
    "                 9:'toy',\\\n",
    "                 10:'rcv1',\\\n",
    "                 11:'aloi.scale'\\\n",
    "                }\n",
    "\n",
    "nr_classes = {'usps':10,\\\n",
    "              'satimage.scale':6,\\\n",
    "              'dna.scale':3,\\\n",
    "              'letter.scale':26,\\\n",
    "              'pendigits':10,\\\n",
    "              'news20.scale':20,\\\n",
    "              'sector.scale':105,\\\n",
    "              'mnist.scale':10,\\\n",
    "              'cifar10':10,\\\n",
    "              'toy':3,\\\n",
    "              'rcv1':53,\\\n",
    "              'aloi.scale':1000\\\n",
    "             }\n",
    "\n",
    "# as powers of ten\n",
    "regs = {'usps':.1,\\\n",
    "        'satimage.scale':1,\\\n",
    "        'dna.scale':1,\\\n",
    "        'letter.scale':.1,\\\n",
    "        'pendigits':.01,\\\n",
    "        'news20.scale':.1,\\\n",
    "        'sector.scale':1,\\\n",
    "        'mnist.scale':1,\\\n",
    "        'cifar10':1,\\\n",
    "        'toy':1,\\\n",
    "        'rcv1':1,\\\n",
    "        'aloi.scale':1\\\n",
    "       }\n",
    "\n",
    "\n",
    "iters = {'usps':2048,\\\n",
    "         'satimage.scale':64,\\\n",
    "         'dna.scale':1024,\\\n",
    "         'letter.scale':64,\\\n",
    "         'pendigits':8192,\\\n",
    "         'news20.scale':64,\\\n",
    "         'sector.scale':32,\\\n",
    "         'mnist.scale':64,\\\n",
    "         'cifar10':32,\\\n",
    "         'toy':32,\\\n",
    "         'rcv1':32,\\\n",
    "         'aloi.scale':32\\\n",
    "       }\n",
    "\n",
    "\n",
    "\n",
    "\n",
    "run_these_datasets = [2,1,7,5,3,10,6,11]\n",
    "run_these_hyperparams = [10,1,0.1,0.01]\n",
    "\n",
    "\n"
   ]
  },
  {
   "cell_type": "code",
   "execution_count": 248,
   "metadata": {},
   "outputs": [],
   "source": [
    "import numpy as np\n",
    "import matplotlib\n",
    "import matplotlib.pyplot as plt\n",
    "import os\n",
    "import re\n",
    "import math\n",
    "import pandas as pd"
   ]
  },
  {
   "cell_type": "code",
   "execution_count": 249,
   "metadata": {},
   "outputs": [
    {
     "data": {
      "text/html": [
       "<div>\n",
       "<style scoped>\n",
       "    .dataframe tbody tr th:only-of-type {\n",
       "        vertical-align: middle;\n",
       "    }\n",
       "\n",
       "    .dataframe tbody tr th {\n",
       "        vertical-align: top;\n",
       "    }\n",
       "\n",
       "    .dataframe thead th {\n",
       "        text-align: right;\n",
       "    }\n",
       "</style>\n",
       "<table border=\"1\" class=\"dataframe\">\n",
       "  <thead>\n",
       "    <tr style=\"text-align: right;\">\n",
       "      <th></th>\n",
       "      <th>ds_name</th>\n",
       "      <th>ds_idx</th>\n",
       "      <th>nr_classes</th>\n",
       "    </tr>\n",
       "  </thead>\n",
       "  <tbody>\n",
       "    <tr>\n",
       "      <th>0</th>\n",
       "      <td>dna.scale</td>\n",
       "      <td>2</td>\n",
       "      <td>3</td>\n",
       "    </tr>\n",
       "    <tr>\n",
       "      <th>1</th>\n",
       "      <td>satimage.scale</td>\n",
       "      <td>1</td>\n",
       "      <td>6</td>\n",
       "    </tr>\n",
       "    <tr>\n",
       "      <th>2</th>\n",
       "      <td>mnist.scale</td>\n",
       "      <td>7</td>\n",
       "      <td>10</td>\n",
       "    </tr>\n",
       "    <tr>\n",
       "      <th>3</th>\n",
       "      <td>news20.scale</td>\n",
       "      <td>5</td>\n",
       "      <td>20</td>\n",
       "    </tr>\n",
       "    <tr>\n",
       "      <th>4</th>\n",
       "      <td>letter.scale</td>\n",
       "      <td>3</td>\n",
       "      <td>26</td>\n",
       "    </tr>\n",
       "    <tr>\n",
       "      <th>5</th>\n",
       "      <td>rcv1</td>\n",
       "      <td>10</td>\n",
       "      <td>53</td>\n",
       "    </tr>\n",
       "    <tr>\n",
       "      <th>6</th>\n",
       "      <td>sector.scale</td>\n",
       "      <td>6</td>\n",
       "      <td>105</td>\n",
       "    </tr>\n",
       "    <tr>\n",
       "      <th>7</th>\n",
       "      <td>aloi.scale</td>\n",
       "      <td>11</td>\n",
       "      <td>1000</td>\n",
       "    </tr>\n",
       "  </tbody>\n",
       "</table>\n",
       "</div>"
      ],
      "text/plain": [
       "          ds_name  ds_idx  nr_classes\n",
       "0       dna.scale       2           3\n",
       "1  satimage.scale       1           6\n",
       "2     mnist.scale       7          10\n",
       "3    news20.scale       5          20\n",
       "4    letter.scale       3          26\n",
       "5            rcv1      10          53\n",
       "6    sector.scale       6         105\n",
       "7      aloi.scale      11        1000"
      ]
     },
     "execution_count": 249,
     "metadata": {},
     "output_type": "execute_result"
    }
   ],
   "source": [
    "pd.DataFrame({'ds_name' : [dataset_names[i] for i in run_these_datasets],\n",
    "              'ds_idx' : run_these_datasets,\n",
    "             'nr_classes' : [nr_classes[dataset_names[i]] for i in run_these_datasets]})"
   ]
  },
  {
   "cell_type": "code",
   "execution_count": 250,
   "metadata": {},
   "outputs": [],
   "source": [
    "ds = dataset_names[11]\n",
    "reg = 1"
   ]
  },
  {
   "cell_type": "code",
   "execution_count": 251,
   "metadata": {},
   "outputs": [],
   "source": [
    "def get_exp_name(ds, reg):\n",
    "    return ds+'_'+ str(int(math.log10(reg)))"
   ]
  },
  {
   "cell_type": "code",
   "execution_count": 252,
   "metadata": {},
   "outputs": [],
   "source": [
    "def get_results(FILENAME):\n",
    "    from numpy import genfromtxt\n",
    "    result_np = genfromtxt(FILENAME, delimiter=',')\n",
    "\n",
    "    df = pd.DataFrame(result_np, columns = ['time', 'sum of dual vars', 'norm/2', 'C*hinge risk', 'primal obj'])\n",
    "\n",
    "    df['time'] = df['time']/1000 # convert from milliseconds to seconds\n",
    "    df['dual obj'] = df['sum of dual vars'] - df['norm/2'] # add the column for the dual obj\n",
    "    df['duality gap'] = df['primal obj'] - df['dual obj']\n",
    "    return df"
   ]
  },
  {
   "cell_type": "code",
   "execution_count": 253,
   "metadata": {},
   "outputs": [],
   "source": [
    "def get_time_conv(df):\n",
    "    idx_conv = (df['duality gap'] <= 0.01*df['duality gap'][0]).idxmax()\n",
    "    return df['time'][idx_conv]"
   ]
  },
  {
   "cell_type": "code",
   "execution_count": 254,
   "metadata": {},
   "outputs": [],
   "source": [
    "FILENAME = \"../results/Ours/\" + get_exp_name(ds,reg) + '.csv'\n",
    "df_ours = get_results(FILENAME)\n",
    "t_ours = get_time_conv(df_ours)"
   ]
  },
  {
   "cell_type": "code",
   "execution_count": 255,
   "metadata": {},
   "outputs": [],
   "source": [
    "FILENAME = \"../results/Shark/\" + get_exp_name(ds,reg) + '.csv'\n",
    "df_shark = get_results(FILENAME)\n",
    "t_shark = get_time_conv(df_shark)"
   ]
  },
  {
   "cell_type": "code",
   "execution_count": 256,
   "metadata": {},
   "outputs": [
    {
     "data": {
      "text/plain": [
       "3.8656659859792417"
      ]
     },
     "execution_count": 256,
     "metadata": {},
     "output_type": "execute_result"
    }
   ],
   "source": [
    "t_shark/t_ours"
   ]
  },
  {
   "cell_type": "code",
   "execution_count": 262,
   "metadata": {},
   "outputs": [
    {
     "data": {
      "text/plain": [
       "0     False\n",
       "1     False\n",
       "2     False\n",
       "3     False\n",
       "4     False\n",
       "5     False\n",
       "6     False\n",
       "7     False\n",
       "8     False\n",
       "9     False\n",
       "10    False\n",
       "11    False\n",
       "12    False\n",
       "13    False\n",
       "14    False\n",
       "15    False\n",
       "16    False\n",
       "17    False\n",
       "18    False\n",
       "19    False\n",
       "20    False\n",
       "21    False\n",
       "22    False\n",
       "23    False\n",
       "24    False\n",
       "25    False\n",
       "26    False\n",
       "27    False\n",
       "28    False\n",
       "29    False\n",
       "30    False\n",
       "31    False\n",
       "Name: duality gap, dtype: bool"
      ]
     },
     "execution_count": 262,
     "metadata": {},
     "output_type": "execute_result"
    }
   ],
   "source": [
    "df_ours['duality gap'] <= 0.01*df_ours['duality gap'][0]"
   ]
  },
  {
   "cell_type": "code",
   "execution_count": 257,
   "metadata": {},
   "outputs": [
    {
     "name": "stderr",
     "output_type": "stream",
     "text": [
      "The PostScript backend does not support transparency; partially transparent artists will be rendered opaque.\n",
      "The PostScript backend does not support transparency; partially transparent artists will be rendered opaque.\n"
     ]
    },
    {
     "data": {
      "image/png": "[encoded data removed]",
      "text/plain": [
       "<Figure size 432x288 with 1 Axes>"
      ]
     },
     "metadata": {
      "needs_background": "light"
     },
     "output_type": "display_data"
    }
   ],
   "source": [
    "\n",
    "fig, ax = plt.subplots()\n",
    "ax.semilogx(df_ours['time'],\\\n",
    "            df_ours['primal obj'],\\\n",
    "            linestyle='-', \\\n",
    "            color='k')\n",
    "ax.semilogx(df_ours['time'], \\\n",
    "            df_ours['dual obj'], \\\n",
    "            linestyle='--', \\\n",
    "            color='k')\n",
    "\n",
    "orange = (0.9,0.6,0)\n",
    "ax.semilogx(df_shark['time'], \\\n",
    "            df_shark['primal obj'], \\\n",
    "            linestyle = '-.', \\\n",
    "            color = orange,\\\n",
    "            linewidth = 2)\n",
    "ax.semilogx(df_shark['time'],\\\n",
    "            df_shark['dual obj'],\\\n",
    "            linestyle = ':', \\\n",
    "            color = orange,\\\n",
    "            linewidth = 2)\n",
    "\n",
    "\n",
    "plt.xlabel(\"Time (sec)\")\n",
    "plt.ylabel(\"Objective value\")\n",
    "plt.title(ds + ', k = ' + str(nr_classes[ds]) +', C = ' +str(reg))\n",
    "ax.legend(['IC primal','IC dual','Shark primal','Shark dual'])\n",
    "plt.savefig('../figures/' + get_exp_name(ds,reg)+'_ob.eps',format='eps')"
   ]
  },
  {
   "cell_type": "code",
   "execution_count": 258,
   "metadata": {},
   "outputs": [
    {
     "name": "stderr",
     "output_type": "stream",
     "text": [
      "The PostScript backend does not support transparency; partially transparent artists will be rendered opaque.\n",
      "The PostScript backend does not support transparency; partially transparent artists will be rendered opaque.\n"
     ]
    },
    {
     "data": {
      "image/png": "[encoded data removed]",
      "text/plain": [
       "<Figure size 432x288 with 1 Axes>"
      ]
     },
     "metadata": {
      "needs_background": "light"
     },
     "output_type": "display_data"
    }
   ],
   "source": [
    "\n",
    "\n",
    "fig, ax = plt.subplots()\n",
    "ax.loglog(df_ours['time'],\\\n",
    "            df_ours['duality gap'],\\\n",
    "            linestyle='-', \\\n",
    "            color='k')\n",
    "\n",
    "orange = (0.9,0.6,0)\n",
    "ax.loglog(df_shark['time'],\\\n",
    "            df_shark['duality gap'],\\\n",
    "            linestyle = '-.', \\\n",
    "            color = orange,\\\n",
    "            linewidth = 2)\n",
    "\n",
    "plt.xlabel(\"Time (sec)\")\n",
    "plt.ylabel(\"Duality gap\")\n",
    "plt.title(ds + ', k = ' + str(nr_classes[ds]) +', C = ' +str(regs[ds]))\n",
    "ax.legend(['IC','Shark'])\n",
    "plt.savefig('../figures/' + get_exp_name(ds,reg)+'_dg.eps',format='eps')"
   ]
  }
 ],
 "metadata": {
  "kernelspec": {
   "display_name": "Python 3",
   "language": "python",
   "name": "python3"
  },
  "language_info": {
   "codemirror_mode": {
    "name": "ipython",
    "version": 3
   },
   "file_extension": ".py",
   "mimetype": "text/x-python",
   "name": "python",
   "nbconvert_exporter": "python",
   "pygments_lexer": "ipython3",
   "version": "3.7.4"
  }
 },
 "nbformat": 4,
 "nbformat_minor": 2
}
