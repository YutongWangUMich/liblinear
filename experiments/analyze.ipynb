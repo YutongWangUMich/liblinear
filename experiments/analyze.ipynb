{
 "cells": [
  {
   "cell_type": "code",
   "execution_count": 1,
   "metadata": {},
   "outputs": [],
   "source": [
    "import numpy as np\n",
    "import matplotlib\n",
    "import matplotlib.pyplot as plt\n",
    "import math\n",
    "import pandas as pd\n",
    "import seaborn as sns\n",
    "import re"
   ]
  },
  {
   "cell_type": "markdown",
   "metadata": {},
   "source": [
    "# Data set metadata"
   ]
  },
  {
   "cell_type": "code",
   "execution_count": 2,
   "metadata": {},
   "outputs": [
    {
     "data": {
      "text/html": [
       "<div>\n",
       "<style scoped>\n",
       "    .dataframe tbody tr th:only-of-type {\n",
       "        vertical-align: middle;\n",
       "    }\n",
       "\n",
       "    .dataframe tbody tr th {\n",
       "        vertical-align: top;\n",
       "    }\n",
       "\n",
       "    .dataframe thead th {\n",
       "        text-align: right;\n",
       "    }\n",
       "</style>\n",
       "<table border=\"1\" class=\"dataframe\">\n",
       "  <thead>\n",
       "    <tr style=\"text-align: right;\">\n",
       "      <th></th>\n",
       "      <th>ds_name</th>\n",
       "      <th>nr_classes</th>\n",
       "      <th>nr_instances</th>\n",
       "      <th>nr_features</th>\n",
       "      <th>short_name</th>\n",
       "    </tr>\n",
       "  </thead>\n",
       "  <tbody>\n",
       "    <tr>\n",
       "      <th>0</th>\n",
       "      <td>dna.scale</td>\n",
       "      <td>3</td>\n",
       "      <td>2000</td>\n",
       "      <td>180</td>\n",
       "      <td>dna</td>\n",
       "    </tr>\n",
       "    <tr>\n",
       "      <th>1</th>\n",
       "      <td>satimage.scale</td>\n",
       "      <td>6</td>\n",
       "      <td>4435</td>\n",
       "      <td>36</td>\n",
       "      <td>satimage</td>\n",
       "    </tr>\n",
       "    <tr>\n",
       "      <th>2</th>\n",
       "      <td>mnist.scale</td>\n",
       "      <td>10</td>\n",
       "      <td>60000</td>\n",
       "      <td>780</td>\n",
       "      <td>mnist</td>\n",
       "    </tr>\n",
       "    <tr>\n",
       "      <th>3</th>\n",
       "      <td>news20.scale</td>\n",
       "      <td>20</td>\n",
       "      <td>15935</td>\n",
       "      <td>62061</td>\n",
       "      <td>news20</td>\n",
       "    </tr>\n",
       "    <tr>\n",
       "      <th>4</th>\n",
       "      <td>letter.scale</td>\n",
       "      <td>26</td>\n",
       "      <td>15000</td>\n",
       "      <td>16</td>\n",
       "      <td>letter</td>\n",
       "    </tr>\n",
       "    <tr>\n",
       "      <th>5</th>\n",
       "      <td>rcv1</td>\n",
       "      <td>53</td>\n",
       "      <td>15564</td>\n",
       "      <td>47236</td>\n",
       "      <td>rcv1</td>\n",
       "    </tr>\n",
       "    <tr>\n",
       "      <th>6</th>\n",
       "      <td>sector.scale</td>\n",
       "      <td>105</td>\n",
       "      <td>6412</td>\n",
       "      <td>55197</td>\n",
       "      <td>sector</td>\n",
       "    </tr>\n",
       "    <tr>\n",
       "      <th>7</th>\n",
       "      <td>aloi.scale</td>\n",
       "      <td>1000</td>\n",
       "      <td>81000</td>\n",
       "      <td>128</td>\n",
       "      <td>aloi</td>\n",
       "    </tr>\n",
       "  </tbody>\n",
       "</table>\n",
       "</div>"
      ],
      "text/plain": [
       "          ds_name  nr_classes  nr_instances  nr_features short_name\n",
       "0       dna.scale           3          2000          180        dna\n",
       "1  satimage.scale           6          4435           36   satimage\n",
       "2     mnist.scale          10         60000          780      mnist\n",
       "3    news20.scale          20         15935        62061     news20\n",
       "4    letter.scale          26         15000           16     letter\n",
       "5            rcv1          53         15564        47236       rcv1\n",
       "6    sector.scale         105          6412        55197     sector\n",
       "7      aloi.scale        1000         81000          128       aloi"
      ]
     },
     "execution_count": 2,
     "metadata": {},
     "output_type": "execute_result"
    }
   ],
   "source": [
    "ds_metadata = pd.read_csv('dataset_metadata.csv')\n",
    "ds_metadata"
   ]
  },
  {
   "cell_type": "code",
   "execution_count": 3,
   "metadata": {
    "scrolled": true
   },
   "outputs": [
    {
     "name": "stdout",
     "output_type": "stream",
     "text": [
      "+----+----------------+--------------+----------------+---------------+--------------+\n",
      "|    | ds_name        |   nr_classes |   nr_instances |   nr_features | short_name   |\n",
      "|----+----------------+--------------+----------------+---------------+--------------|\n",
      "|  0 | dna.scale      |            3 |           2000 |           180 | dna          |\n",
      "|  1 | satimage.scale |            6 |           4435 |            36 | satimage     |\n",
      "|  2 | mnist.scale    |           10 |          60000 |           780 | mnist        |\n",
      "|  3 | news20.scale   |           20 |          15935 |         62061 | news20       |\n",
      "|  4 | letter.scale   |           26 |          15000 |            16 | letter       |\n",
      "|  5 | rcv1           |           53 |          15564 |         47236 | rcv1         |\n",
      "|  6 | sector.scale   |          105 |           6412 |         55197 | sector       |\n",
      "|  7 | aloi.scale     |         1000 |          81000 |           128 | aloi         |\n",
      "+----+----------------+--------------+----------------+---------------+--------------+\n"
     ]
    }
   ],
   "source": [
    "from tabulate import tabulate\n",
    "df = ds_metadata\n",
    "print(tabulate(df, headers='keys', tablefmt='psql'))"
   ]
  },
  {
   "cell_type": "markdown",
   "metadata": {},
   "source": [
    "# Plot optimization trajectories"
   ]
  },
  {
   "cell_type": "code",
   "execution_count": 4,
   "metadata": {},
   "outputs": [],
   "source": [
    "def get_exp_name(ds, reg):\n",
    "    return ds+'_'+ str(int(math.log2(reg)))\n",
    "\n",
    "def get_save_name(ds, reg):\n",
    "    i = (ds_metadata[\"ds_name\"] == ds).idxmax()\n",
    "    sname = ds_metadata[\"short_name\"][i]\n",
    "    return sname +'_'+ str(int(math.log2(reg)))\n",
    "\n",
    "def get_plot_title(ds,reg):\n",
    "    i = (ds_metadata[\"ds_name\"] == ds).idxmax()\n",
    "    sname = ds_metadata[\"short_name\"][i]\n",
    "    return sname +', k = ' + str(ds_metadata[\"nr_classes\"][i]) +', C = 2e' + str(int(math.log2(reg))) \n",
    "\n",
    "def get_results(FILENAME):\n",
    "    from numpy import genfromtxt\n",
    "    result_np = genfromtxt(FILENAME, delimiter=',')\n",
    "\n",
    "    df = pd.DataFrame(result_np, columns = ['time', 'sum of dual vars', 'norm/2', 'C*hinge risk', 'primal obj'])\n",
    "\n",
    "    df['time'] = df['time']/1000 # convert from milliseconds to seconds\n",
    "    df['dual obj'] = df['sum of dual vars'] - df['norm/2'] # add the column for the dual obj\n",
    "    df['duality gap'] = df['primal obj'] - df['dual obj']\n",
    "    return df\n",
    "\n",
    "def get_time_conv(df,decay_factor):\n",
    "    convergence_status = (df['duality gap'] <= decay_factor*df['duality gap'][0])\n",
    "    if any(convergence_status):\n",
    "        idx_conv = convergence_status.idxmax()\n",
    "        return df['time'][idx_conv]\n",
    "    else:\n",
    "        return float('NaN')\n",
    "    \n",
    "def get_accuracy(FILENAME):\n",
    "    f = open(FILENAME,'r')\n",
    "    return float(re.findall(r\"[-+]?\\d*\\.\\d+|\\d+\", f.readline())[0])    "
   ]
  },
  {
   "cell_type": "code",
   "execution_count": 5,
   "metadata": {},
   "outputs": [],
   "source": [
    "def plot_optim_traj(ds,reg):\n",
    "    exp_name = get_exp_name(ds,reg)\n",
    "    df_ours = get_results(\"../results/Ours/\"+exp_name+\".csv\")\n",
    "    df_shark = get_results(\"../results/Shark/\"+exp_name+\".csv\")\n",
    "\n",
    "    fig, ax = plt.subplots(figsize=(6.75,3.5))\n",
    "\n",
    "\n",
    "    ax.semilogx(df_ours['time'],\\\n",
    "                df_ours['primal obj'],\\\n",
    "                linestyle='-', \\\n",
    "                color='k')\n",
    "    ax.semilogx(df_ours['time'], \\\n",
    "                df_ours['dual obj'], \\\n",
    "                linestyle='--', \\\n",
    "                color='k')\n",
    "\n",
    "    orange = (0.9,0.6,0)\n",
    "    ax.semilogx(df_shark['time'], \\\n",
    "                df_shark['primal obj'], \\\n",
    "                linestyle = '-.', \\\n",
    "                color = orange,\\\n",
    "                linewidth = 2)\n",
    "    ax.semilogx(df_shark['time'],\\\n",
    "                df_shark['dual obj'],\\\n",
    "                linestyle = ':', \\\n",
    "                color = orange,\\\n",
    "                linewidth = 2)\n",
    "\n",
    "\n",
    "    plt.xlabel(\"Time (sec)\")\n",
    "    plt.ylabel(\"Objective value\")\n",
    "    plt.title(get_plot_title(ds,reg))\n",
    "    ax.legend(['Ours primal','Ours dual','Shark primal','Shark dual'])\n",
    "    plt.savefig('../figures/' + get_save_name(ds,reg) +'_ob.eps',format='eps')\n",
    "    \n",
    "    \n",
    "def plot_duality_gap(ds,reg):\n",
    "    exp_name = get_exp_name(ds,reg)\n",
    "    df_ours = get_results(\"../results/Ours/\"+exp_name+\".csv\")\n",
    "    df_shark = get_results(\"../results/Shark/\"+exp_name+\".csv\")\n",
    "    fig, ax = plt.subplots(figsize=(6.75,3.5))\n",
    "\n",
    "    ax.loglog(df_ours['time'],\\\n",
    "                df_ours['duality gap'],\\\n",
    "                linestyle='-', \\\n",
    "                color='k')\n",
    "\n",
    "    orange = (0.9,0.6,0)\n",
    "    ax.loglog(df_shark['time'],\\\n",
    "                df_shark['duality gap'],\\\n",
    "                linestyle = '-.', \\\n",
    "                color = orange,\\\n",
    "                linewidth = 2)\n",
    "\n",
    "    plt.xlabel(\"Time (sec)\")\n",
    "    plt.ylabel(\"Dual gap\")\n",
    "    plt.title(get_plot_title(ds,reg))\n",
    "    ax.legend(['Ours','Shark'])\n",
    "    plt.savefig('../figures/' + get_save_name(ds,reg) +'_dg.eps',format='eps')\n",
    "    \n",
    "\n",
    "def plot_both(ds,reg):\n",
    "    exp_name = get_exp_name(ds,reg)\n",
    "    df_ours = get_results(\"../results/Ours/\"+exp_name+\".csv\")\n",
    "    df_shark = get_results(\"../results/Shark/\"+exp_name+\".csv\")\n",
    "    \n",
    "    fig, axes = plt.subplots(1,2,figsize=(7,3))\n",
    "    fig.tight_layout()\n",
    "    fig.subplots_adjust(wspace=.25,top=0.9)\n",
    "    fig.suptitle(get_plot_title(ds,reg) +\"\\n\")\n",
    "    ax = axes[0]\n",
    "    \n",
    "    ax.semilogx(df_ours['time'],\\\n",
    "                df_ours['primal obj'],\\\n",
    "                linestyle='-', \\\n",
    "                color='k')\n",
    "    ax.semilogx(df_ours['time'], \\\n",
    "                df_ours['dual obj'], \\\n",
    "                linestyle='--', \\\n",
    "                color='k')\n",
    "\n",
    "    orange = (0.9,0.6,0)\n",
    "    ax.semilogx(df_shark['time'], \\\n",
    "                df_shark['primal obj'], \\\n",
    "                linestyle = '-.', \\\n",
    "                color = orange,\\\n",
    "                linewidth = 2)\n",
    "    ax.semilogx(df_shark['time'],\\\n",
    "                df_shark['dual obj'],\\\n",
    "                linestyle = ':', \\\n",
    "                color = orange,\\\n",
    "                linewidth = 2)\n",
    "\n",
    "\n",
    "    ax.set_xlabel(\"Time (sec)\")\n",
    "    ax.set_ylabel(\"Objective value\")\n",
    "#     plt.title(get_plot_title(ds))\n",
    "    ax.legend(['Walrus pr.','Walrus du.','Shark pr.','Shark du.'])\n",
    "\n",
    "    ax = axes[1]\n",
    "    ax.loglog(df_ours['time'],\\\n",
    "                df_ours['duality gap'],\\\n",
    "                linestyle='-', \\\n",
    "                color='k')\n",
    "\n",
    "    orange = (0.9,0.6,0)\n",
    "    ax.loglog(df_shark['time'],\\\n",
    "                df_shark['duality gap'],\\\n",
    "                linestyle = '-.', \\\n",
    "                color = orange,\\\n",
    "                linewidth = 2)\n",
    "\n",
    "    ax.set_xlabel(\"Time (sec)\")\n",
    "    ax.set_ylabel(\"Duality gap\")\n",
    "#     plt.title(get_plot_title(ds))\n",
    "    ax.legend(['Walrus','Shark'])\n",
    "    plt.savefig('../figures/' + get_save_name(ds,reg) +'_both.eps',format='eps',bbox_inches = \"tight\")"
   ]
  },
  {
   "cell_type": "markdown",
   "metadata": {},
   "source": [
    "## Satimage"
   ]
  },
  {
   "cell_type": "code",
   "execution_count": 6,
   "metadata": {},
   "outputs": [
    {
     "data": {
      "text/plain": [
       "'satimage.scale_0'"
      ]
     },
     "execution_count": 6,
     "metadata": {},
     "output_type": "execute_result"
    }
   ],
   "source": [
    "ds = ds_metadata['ds_name'][1]\n",
    "reg = float(2**0) # in Dogan et al 2016, they chose C = 2**0\n",
    "get_exp_name(ds,reg)"
   ]
  },
  {
   "cell_type": "code",
   "execution_count": 7,
   "metadata": {},
   "outputs": [],
   "source": [
    "# plot_optim_traj(ds,reg)"
   ]
  },
  {
   "cell_type": "code",
   "execution_count": 8,
   "metadata": {},
   "outputs": [],
   "source": [
    "# plot_duality_gap(ds,reg)"
   ]
  },
  {
   "cell_type": "code",
   "execution_count": 9,
   "metadata": {},
   "outputs": [
    {
     "name": "stderr",
     "output_type": "stream",
     "text": [
      "The PostScript backend does not support transparency; partially transparent artists will be rendered opaque.\n",
      "The PostScript backend does not support transparency; partially transparent artists will be rendered opaque.\n",
      "The PostScript backend does not support transparency; partially transparent artists will be rendered opaque.\n",
      "The PostScript backend does not support transparency; partially transparent artists will be rendered opaque.\n",
      "The PostScript backend does not support transparency; partially transparent artists will be rendered opaque.\n",
      "The PostScript backend does not support transparency; partially transparent artists will be rendered opaque.\n",
      "The PostScript backend does not support transparency; partially transparent artists will be rendered opaque.\n",
      "The PostScript backend does not support transparency; partially transparent artists will be rendered opaque.\n"
     ]
    },
    {
     "data": {
      "image/png": "[encoded data removed]",
      "text/plain": [
       "<Figure size 504x216 with 2 Axes>"
      ]
     },
     "metadata": {
      "needs_background": "light"
     },
     "output_type": "display_data"
    }
   ],
   "source": [
    "plot_both(ds,reg)"
   ]
  },
  {
   "cell_type": "code",
   "execution_count": 10,
   "metadata": {},
   "outputs": [
    {
     "data": {
      "text/html": [
       "<div>\n",
       "<style scoped>\n",
       "    .dataframe tbody tr th:only-of-type {\n",
       "        vertical-align: middle;\n",
       "    }\n",
       "\n",
       "    .dataframe tbody tr th {\n",
       "        vertical-align: top;\n",
       "    }\n",
       "\n",
       "    .dataframe thead th {\n",
       "        text-align: right;\n",
       "    }\n",
       "</style>\n",
       "<table border=\"1\" class=\"dataframe\">\n",
       "  <thead>\n",
       "    <tr style=\"text-align: right;\">\n",
       "      <th></th>\n",
       "      <th>ds_name</th>\n",
       "      <th>nr_classes</th>\n",
       "      <th>nr_instances</th>\n",
       "      <th>nr_features</th>\n",
       "      <th>short_name</th>\n",
       "    </tr>\n",
       "  </thead>\n",
       "  <tbody>\n",
       "    <tr>\n",
       "      <th>0</th>\n",
       "      <td>dna.scale</td>\n",
       "      <td>3</td>\n",
       "      <td>2000</td>\n",
       "      <td>180</td>\n",
       "      <td>dna</td>\n",
       "    </tr>\n",
       "    <tr>\n",
       "      <th>1</th>\n",
       "      <td>satimage.scale</td>\n",
       "      <td>6</td>\n",
       "      <td>4435</td>\n",
       "      <td>36</td>\n",
       "      <td>satimage</td>\n",
       "    </tr>\n",
       "    <tr>\n",
       "      <th>2</th>\n",
       "      <td>mnist.scale</td>\n",
       "      <td>10</td>\n",
       "      <td>60000</td>\n",
       "      <td>780</td>\n",
       "      <td>mnist</td>\n",
       "    </tr>\n",
       "    <tr>\n",
       "      <th>3</th>\n",
       "      <td>news20.scale</td>\n",
       "      <td>20</td>\n",
       "      <td>15935</td>\n",
       "      <td>62061</td>\n",
       "      <td>news20</td>\n",
       "    </tr>\n",
       "    <tr>\n",
       "      <th>4</th>\n",
       "      <td>letter.scale</td>\n",
       "      <td>26</td>\n",
       "      <td>15000</td>\n",
       "      <td>16</td>\n",
       "      <td>letter</td>\n",
       "    </tr>\n",
       "    <tr>\n",
       "      <th>5</th>\n",
       "      <td>rcv1</td>\n",
       "      <td>53</td>\n",
       "      <td>15564</td>\n",
       "      <td>47236</td>\n",
       "      <td>rcv1</td>\n",
       "    </tr>\n",
       "    <tr>\n",
       "      <th>6</th>\n",
       "      <td>sector.scale</td>\n",
       "      <td>105</td>\n",
       "      <td>6412</td>\n",
       "      <td>55197</td>\n",
       "      <td>sector</td>\n",
       "    </tr>\n",
       "    <tr>\n",
       "      <th>7</th>\n",
       "      <td>aloi.scale</td>\n",
       "      <td>1000</td>\n",
       "      <td>81000</td>\n",
       "      <td>128</td>\n",
       "      <td>aloi</td>\n",
       "    </tr>\n",
       "  </tbody>\n",
       "</table>\n",
       "</div>"
      ],
      "text/plain": [
       "          ds_name  nr_classes  nr_instances  nr_features short_name\n",
       "0       dna.scale           3          2000          180        dna\n",
       "1  satimage.scale           6          4435           36   satimage\n",
       "2     mnist.scale          10         60000          780      mnist\n",
       "3    news20.scale          20         15935        62061     news20\n",
       "4    letter.scale          26         15000           16     letter\n",
       "5            rcv1          53         15564        47236       rcv1\n",
       "6    sector.scale         105          6412        55197     sector\n",
       "7      aloi.scale        1000         81000          128       aloi"
      ]
     },
     "execution_count": 10,
     "metadata": {},
     "output_type": "execute_result"
    }
   ],
   "source": [
    "ds_metadata"
   ]
  },
  {
   "cell_type": "code",
   "execution_count": 11,
   "metadata": {},
   "outputs": [
    {
     "data": {
      "text/html": [
       "<div>\n",
       "<style scoped>\n",
       "    .dataframe tbody tr th:only-of-type {\n",
       "        vertical-align: middle;\n",
       "    }\n",
       "\n",
       "    .dataframe tbody tr th {\n",
       "        vertical-align: top;\n",
       "    }\n",
       "\n",
       "    .dataframe thead th {\n",
       "        text-align: right;\n",
       "    }\n",
       "</style>\n",
       "<table border=\"1\" class=\"dataframe\">\n",
       "  <thead>\n",
       "    <tr style=\"text-align: right;\">\n",
       "      <th></th>\n",
       "      <th>ds_name</th>\n",
       "      <th>nr_classes</th>\n",
       "      <th>nr_instances</th>\n",
       "      <th>nr_features</th>\n",
       "      <th>short_name</th>\n",
       "    </tr>\n",
       "  </thead>\n",
       "  <tbody>\n",
       "    <tr>\n",
       "      <th>0</th>\n",
       "      <td>dna.scale</td>\n",
       "      <td>3</td>\n",
       "      <td>2000</td>\n",
       "      <td>180</td>\n",
       "      <td>dna</td>\n",
       "    </tr>\n",
       "    <tr>\n",
       "      <th>1</th>\n",
       "      <td>satimage.scale</td>\n",
       "      <td>6</td>\n",
       "      <td>4435</td>\n",
       "      <td>36</td>\n",
       "      <td>satimage</td>\n",
       "    </tr>\n",
       "    <tr>\n",
       "      <th>2</th>\n",
       "      <td>mnist.scale</td>\n",
       "      <td>10</td>\n",
       "      <td>60000</td>\n",
       "      <td>780</td>\n",
       "      <td>mnist</td>\n",
       "    </tr>\n",
       "    <tr>\n",
       "      <th>3</th>\n",
       "      <td>news20.scale</td>\n",
       "      <td>20</td>\n",
       "      <td>15935</td>\n",
       "      <td>62061</td>\n",
       "      <td>news20</td>\n",
       "    </tr>\n",
       "    <tr>\n",
       "      <th>4</th>\n",
       "      <td>letter.scale</td>\n",
       "      <td>26</td>\n",
       "      <td>15000</td>\n",
       "      <td>16</td>\n",
       "      <td>letter</td>\n",
       "    </tr>\n",
       "    <tr>\n",
       "      <th>5</th>\n",
       "      <td>rcv1</td>\n",
       "      <td>53</td>\n",
       "      <td>15564</td>\n",
       "      <td>47236</td>\n",
       "      <td>rcv1</td>\n",
       "    </tr>\n",
       "    <tr>\n",
       "      <th>6</th>\n",
       "      <td>sector.scale</td>\n",
       "      <td>105</td>\n",
       "      <td>6412</td>\n",
       "      <td>55197</td>\n",
       "      <td>sector</td>\n",
       "    </tr>\n",
       "    <tr>\n",
       "      <th>7</th>\n",
       "      <td>aloi.scale</td>\n",
       "      <td>1000</td>\n",
       "      <td>81000</td>\n",
       "      <td>128</td>\n",
       "      <td>aloi</td>\n",
       "    </tr>\n",
       "  </tbody>\n",
       "</table>\n",
       "</div>"
      ],
      "text/plain": [
       "          ds_name  nr_classes  nr_instances  nr_features short_name\n",
       "0       dna.scale           3          2000          180        dna\n",
       "1  satimage.scale           6          4435           36   satimage\n",
       "2     mnist.scale          10         60000          780      mnist\n",
       "3    news20.scale          20         15935        62061     news20\n",
       "4    letter.scale          26         15000           16     letter\n",
       "5            rcv1          53         15564        47236       rcv1\n",
       "6    sector.scale         105          6412        55197     sector\n",
       "7      aloi.scale        1000         81000          128       aloi"
      ]
     },
     "execution_count": 11,
     "metadata": {},
     "output_type": "execute_result"
    }
   ],
   "source": [
    "ds_metadata"
   ]
  },
  {
   "cell_type": "markdown",
   "metadata": {},
   "source": [
    "## Sector"
   ]
  },
  {
   "cell_type": "code",
   "execution_count": 12,
   "metadata": {},
   "outputs": [
    {
     "data": {
      "text/plain": [
       "'sector.scale_-1'"
      ]
     },
     "execution_count": 12,
     "metadata": {},
     "output_type": "execute_result"
    }
   ],
   "source": [
    "ds = ds_metadata['ds_name'][6]\n",
    "reg = float(2**-1) # Dogan's regularizer is -1\n",
    "get_exp_name(ds,reg)"
   ]
  },
  {
   "cell_type": "code",
   "execution_count": 13,
   "metadata": {},
   "outputs": [],
   "source": [
    "# plot_optim_traj(ds,reg)"
   ]
  },
  {
   "cell_type": "code",
   "execution_count": 14,
   "metadata": {},
   "outputs": [],
   "source": [
    "# plot_duality_gap(ds,reg)"
   ]
  },
  {
   "cell_type": "code",
   "execution_count": 15,
   "metadata": {},
   "outputs": [
    {
     "name": "stderr",
     "output_type": "stream",
     "text": [
      "The PostScript backend does not support transparency; partially transparent artists will be rendered opaque.\n",
      "The PostScript backend does not support transparency; partially transparent artists will be rendered opaque.\n",
      "The PostScript backend does not support transparency; partially transparent artists will be rendered opaque.\n",
      "The PostScript backend does not support transparency; partially transparent artists will be rendered opaque.\n",
      "The PostScript backend does not support transparency; partially transparent artists will be rendered opaque.\n",
      "The PostScript backend does not support transparency; partially transparent artists will be rendered opaque.\n",
      "The PostScript backend does not support transparency; partially transparent artists will be rendered opaque.\n",
      "The PostScript backend does not support transparency; partially transparent artists will be rendered opaque.\n"
     ]
    },
    {
     "data": {
      "image/png": "[encoded data removed]",
      "text/plain": [
       "<Figure size 504x216 with 2 Axes>"
      ]
     },
     "metadata": {
      "needs_background": "light"
     },
     "output_type": "display_data"
    }
   ],
   "source": [
    "plot_both(ds,reg)"
   ]
  },
  {
   "cell_type": "markdown",
   "metadata": {},
   "source": [
    "# Dual gap after a single outer iteration"
   ]
  },
  {
   "cell_type": "code",
   "execution_count": 16,
   "metadata": {},
   "outputs": [
    {
     "data": {
      "text/html": [
       "<div>\n",
       "<style scoped>\n",
       "    .dataframe tbody tr th:only-of-type {\n",
       "        vertical-align: middle;\n",
       "    }\n",
       "\n",
       "    .dataframe tbody tr th {\n",
       "        vertical-align: top;\n",
       "    }\n",
       "\n",
       "    .dataframe thead th {\n",
       "        text-align: right;\n",
       "    }\n",
       "</style>\n",
       "<table border=\"1\" class=\"dataframe\">\n",
       "  <thead>\n",
       "    <tr style=\"text-align: right;\">\n",
       "      <th></th>\n",
       "      <th>ds_name</th>\n",
       "      <th>nr_classes</th>\n",
       "      <th>nr_instances</th>\n",
       "      <th>nr_features</th>\n",
       "      <th>short_name</th>\n",
       "    </tr>\n",
       "  </thead>\n",
       "  <tbody>\n",
       "    <tr>\n",
       "      <th>0</th>\n",
       "      <td>dna.scale</td>\n",
       "      <td>3</td>\n",
       "      <td>2000</td>\n",
       "      <td>180</td>\n",
       "      <td>dna</td>\n",
       "    </tr>\n",
       "    <tr>\n",
       "      <th>1</th>\n",
       "      <td>satimage.scale</td>\n",
       "      <td>6</td>\n",
       "      <td>4435</td>\n",
       "      <td>36</td>\n",
       "      <td>satimage</td>\n",
       "    </tr>\n",
       "    <tr>\n",
       "      <th>2</th>\n",
       "      <td>mnist.scale</td>\n",
       "      <td>10</td>\n",
       "      <td>60000</td>\n",
       "      <td>780</td>\n",
       "      <td>mnist</td>\n",
       "    </tr>\n",
       "    <tr>\n",
       "      <th>3</th>\n",
       "      <td>news20.scale</td>\n",
       "      <td>20</td>\n",
       "      <td>15935</td>\n",
       "      <td>62061</td>\n",
       "      <td>news20</td>\n",
       "    </tr>\n",
       "    <tr>\n",
       "      <th>4</th>\n",
       "      <td>letter.scale</td>\n",
       "      <td>26</td>\n",
       "      <td>15000</td>\n",
       "      <td>16</td>\n",
       "      <td>letter</td>\n",
       "    </tr>\n",
       "    <tr>\n",
       "      <th>5</th>\n",
       "      <td>rcv1</td>\n",
       "      <td>53</td>\n",
       "      <td>15564</td>\n",
       "      <td>47236</td>\n",
       "      <td>rcv1</td>\n",
       "    </tr>\n",
       "    <tr>\n",
       "      <th>6</th>\n",
       "      <td>sector.scale</td>\n",
       "      <td>105</td>\n",
       "      <td>6412</td>\n",
       "      <td>55197</td>\n",
       "      <td>sector</td>\n",
       "    </tr>\n",
       "    <tr>\n",
       "      <th>7</th>\n",
       "      <td>aloi.scale</td>\n",
       "      <td>1000</td>\n",
       "      <td>81000</td>\n",
       "      <td>128</td>\n",
       "      <td>aloi</td>\n",
       "    </tr>\n",
       "  </tbody>\n",
       "</table>\n",
       "</div>"
      ],
      "text/plain": [
       "          ds_name  nr_classes  nr_instances  nr_features short_name\n",
       "0       dna.scale           3          2000          180        dna\n",
       "1  satimage.scale           6          4435           36   satimage\n",
       "2     mnist.scale          10         60000          780      mnist\n",
       "3    news20.scale          20         15935        62061     news20\n",
       "4    letter.scale          26         15000           16     letter\n",
       "5            rcv1          53         15564        47236       rcv1\n",
       "6    sector.scale         105          6412        55197     sector\n",
       "7      aloi.scale        1000         81000          128       aloi"
      ]
     },
     "execution_count": 16,
     "metadata": {},
     "output_type": "execute_result"
    }
   ],
   "source": [
    "ds_metadata"
   ]
  },
  {
   "cell_type": "code",
   "execution_count": 17,
   "metadata": {},
   "outputs": [],
   "source": [
    "datasets = range(8)\n",
    "hyperparameters = [2**(i-6) for i in range(10)]"
   ]
  },
  {
   "cell_type": "code",
   "execution_count": 18,
   "metadata": {},
   "outputs": [],
   "source": [
    "df_1itr = pd.DataFrame({'ds_name':[], \n",
    "                        'ds_idx':[],\n",
    "                        'short_name':[],\n",
    "                        'regularizer':[],\n",
    "                        'reg_str':[],\n",
    "                        'decay_factor_of_dg':[]})\n",
    "\n",
    "row_id = 0\n",
    "decay_factor = 0.01\n",
    "\n",
    "for i in datasets:\n",
    "    for C in hyperparameters:\n",
    "        ds = ds_metadata['ds_name'][i]\n",
    "        sname = ds_metadata['short_name'][i]\n",
    "        EXPNAME = get_exp_name(ds,C)\n",
    "        # print(EXPNAME)\n",
    "        FILENAME = \"../results/Ours/\" + EXPNAME + '.csv'\n",
    "        df_ours = get_results(FILENAME)\n",
    "        dg_ours = df_ours['duality gap'][0]\n",
    "\n",
    "        FILENAME = \"../results/Shark/\" + EXPNAME + '.csv'\n",
    "        df_shark = get_results(FILENAME)\n",
    "        dg_shark = df_shark['duality gap'][0]\n",
    "        # print(t_shark/t_ours)\n",
    "\n",
    "        df_1itr.loc[row_id] = [ds,i,sname,C, str(int(math.log2(C))), dg_ours/dg_shark]\n",
    "        row_id = row_id + 1"
   ]
  },
  {
   "cell_type": "markdown",
   "metadata": {},
   "source": [
    "## the ratio of the dual gaps after a single outer iteration are essentially identical"
   ]
  },
  {
   "cell_type": "code",
   "execution_count": 19,
   "metadata": {},
   "outputs": [
    {
     "data": {
      "text/plain": [
       "1.0000020715109257"
      ]
     },
     "execution_count": 19,
     "metadata": {},
     "output_type": "execute_result"
    }
   ],
   "source": [
    "max(df_1itr['decay_factor_of_dg'])"
   ]
  },
  {
   "cell_type": "code",
   "execution_count": 20,
   "metadata": {},
   "outputs": [
    {
     "data": {
      "text/plain": [
       "0.9999936293410219"
      ]
     },
     "execution_count": 20,
     "metadata": {},
     "output_type": "execute_result"
    }
   ],
   "source": [
    "min(df_1itr['decay_factor_of_dg'])"
   ]
  },
  {
   "cell_type": "markdown",
   "metadata": {},
   "source": [
    "# Get time ratios for all experiments"
   ]
  },
  {
   "cell_type": "code",
   "execution_count": 21,
   "metadata": {
    "scrolled": true
   },
   "outputs": [],
   "source": [
    "df_time = pd.DataFrame({'ds_name':[], \n",
    "                        'ds_idx':[],\n",
    "                        'short_name':[],\n",
    "                        'regularizer':[],\n",
    "                        'reg_str':[],\n",
    "                        'Walrus_time':[],\n",
    "                        'Shark_time':[],\n",
    "                        'ratio':[],\n",
    "                        'decay_factor':[],\n",
    "                        'accuracy_Ours':[],\n",
    "                        'accuracy_Shark':[]})\n",
    "\n",
    "row_id = 0\n",
    "for i in datasets:\n",
    "    for C in hyperparameters:\n",
    "        for decay_factor in [0.1, 0.01, 0.001]:\n",
    "            ds = ds_metadata['ds_name'][i]\n",
    "            sname = ds_metadata['short_name'][i]\n",
    "            EXPNAME = get_exp_name(ds,C)\n",
    "            FILENAME = \"../results/Ours/\" + EXPNAME + '.csv'\n",
    "            df_ours = get_results(FILENAME)\n",
    "            t_ours = get_time_conv(df_ours,decay_factor)\n",
    "            \n",
    "            FILENAME = \"../accuracies/Ours/\" + EXPNAME + '.csv'\n",
    "            acc_ours = get_accuracy(FILENAME)\n",
    "\n",
    "            FILENAME = \"../results/Shark/\" + EXPNAME + '.csv'\n",
    "            df_shark = get_results(FILENAME)\n",
    "            t_shark = get_time_conv(df_shark,decay_factor)\n",
    "            # print(t_shark/t_ours)\n",
    "            \n",
    "            FILENAME = \"../accuracies/Shark/\" + EXPNAME + '.csv'\n",
    "            acc_shark = get_accuracy(FILENAME)\n",
    "\n",
    "            if(np.isnan(t_shark) != np.isnan(t_ours)):\n",
    "                raise SystemExit(\"One converged but the other didn't!\")\n",
    "                \n",
    "            df_time.loc[row_id] = [ds,\\\n",
    "                                   i,\\\n",
    "                                   sname,\\\n",
    "                                   C,\\\n",
    "                                   str(int(math.log2(C))),\\\n",
    "                                   t_ours,\\\n",
    "                                   t_shark,\\\n",
    "                                   t_ours/t_shark,\\\n",
    "                                   str(decay_factor),\\\n",
    "                                  acc_ours,\\\n",
    "                                  acc_shark]\n",
    "            row_id = row_id + 1\n",
    "\n",
    "# df_time\n",
    "df_time.to_csv(\"../results/speed_results.csv\")"
   ]
  },
  {
   "cell_type": "markdown",
   "metadata": {},
   "source": [
    "# Accuracy on datasets vs crossvalidation"
   ]
  },
  {
   "cell_type": "code",
   "execution_count": 22,
   "metadata": {},
   "outputs": [],
   "source": [
    "df_acc = df_time[['short_name','reg_str', 'accuracy_Ours']]\n",
    "df_acc\n",
    "df_acc = df_acc.rename(columns={\"short_name\": \"data set\", \"reg_str\": \"regularizer\"})\n",
    "df_acc = df_acc.pivot_table(index='data set', columns='regularizer', values='accuracy_Ours').round(2)\n",
    "\n",
    "\n",
    "# .to_latex('acc_table.tex')\n",
    "df_acc = df_acc[['-6','-5','-4','-3','-2','-1','0','1','2','3']]\n",
    "df_acc = df_acc.reindex(['dna','satimage','mnist','news20','letter','rcv1','sector','aloi'])\n",
    "df_acc.to_latex('../results/acc_table.tex')"
   ]
  },
  {
   "cell_type": "code",
   "execution_count": 23,
   "metadata": {},
   "outputs": [
    {
     "data": {
      "text/html": [
       "<div>\n",
       "<style scoped>\n",
       "    .dataframe tbody tr th:only-of-type {\n",
       "        vertical-align: middle;\n",
       "    }\n",
       "\n",
       "    .dataframe tbody tr th {\n",
       "        vertical-align: top;\n",
       "    }\n",
       "\n",
       "    .dataframe thead th {\n",
       "        text-align: right;\n",
       "    }\n",
       "</style>\n",
       "<table border=\"1\" class=\"dataframe\">\n",
       "  <thead>\n",
       "    <tr style=\"text-align: right;\">\n",
       "      <th>regularizer</th>\n",
       "      <th>-6</th>\n",
       "      <th>-5</th>\n",
       "      <th>-4</th>\n",
       "      <th>-3</th>\n",
       "      <th>-2</th>\n",
       "      <th>-1</th>\n",
       "      <th>0</th>\n",
       "      <th>1</th>\n",
       "      <th>2</th>\n",
       "      <th>3</th>\n",
       "    </tr>\n",
       "    <tr>\n",
       "      <th>data set</th>\n",
       "      <th></th>\n",
       "      <th></th>\n",
       "      <th></th>\n",
       "      <th></th>\n",
       "      <th></th>\n",
       "      <th></th>\n",
       "      <th></th>\n",
       "      <th></th>\n",
       "      <th></th>\n",
       "      <th></th>\n",
       "    </tr>\n",
       "  </thead>\n",
       "  <tbody>\n",
       "    <tr>\n",
       "      <th>dna</th>\n",
       "      <td>94.77</td>\n",
       "      <td>94.77</td>\n",
       "      <td>94.94</td>\n",
       "      <td>94.69</td>\n",
       "      <td>93.59</td>\n",
       "      <td>93.09</td>\n",
       "      <td>92.24</td>\n",
       "      <td>92.24</td>\n",
       "      <td>92.16</td>\n",
       "      <td>92.16</td>\n",
       "    </tr>\n",
       "    <tr>\n",
       "      <th>satimage</th>\n",
       "      <td>82.35</td>\n",
       "      <td>82.50</td>\n",
       "      <td>82.95</td>\n",
       "      <td>83.55</td>\n",
       "      <td>83.55</td>\n",
       "      <td>84.10</td>\n",
       "      <td>84.35</td>\n",
       "      <td>84.20</td>\n",
       "      <td>84.05</td>\n",
       "      <td>84.25</td>\n",
       "    </tr>\n",
       "    <tr>\n",
       "      <th>mnist</th>\n",
       "      <td>92.34</td>\n",
       "      <td>92.28</td>\n",
       "      <td>92.41</td>\n",
       "      <td>92.37</td>\n",
       "      <td>92.26</td>\n",
       "      <td>92.13</td>\n",
       "      <td>92.12</td>\n",
       "      <td>91.98</td>\n",
       "      <td>91.94</td>\n",
       "      <td>91.70</td>\n",
       "    </tr>\n",
       "    <tr>\n",
       "      <th>news20</th>\n",
       "      <td>82.29</td>\n",
       "      <td>83.35</td>\n",
       "      <td>84.15</td>\n",
       "      <td>85.02</td>\n",
       "      <td>85.45</td>\n",
       "      <td>85.30</td>\n",
       "      <td>84.97</td>\n",
       "      <td>84.40</td>\n",
       "      <td>84.12</td>\n",
       "      <td>84.07</td>\n",
       "    </tr>\n",
       "    <tr>\n",
       "      <th>letter</th>\n",
       "      <td>69.98</td>\n",
       "      <td>71.02</td>\n",
       "      <td>71.74</td>\n",
       "      <td>71.52</td>\n",
       "      <td>71.36</td>\n",
       "      <td>71.46</td>\n",
       "      <td>71.20</td>\n",
       "      <td>71.56</td>\n",
       "      <td>71.44</td>\n",
       "      <td>70.74</td>\n",
       "    </tr>\n",
       "    <tr>\n",
       "      <th>rcv1</th>\n",
       "      <td>87.24</td>\n",
       "      <td>87.96</td>\n",
       "      <td>88.46</td>\n",
       "      <td>88.76</td>\n",
       "      <td>88.80</td>\n",
       "      <td>88.70</td>\n",
       "      <td>88.48</td>\n",
       "      <td>88.25</td>\n",
       "      <td>88.15</td>\n",
       "      <td>88.03</td>\n",
       "    </tr>\n",
       "    <tr>\n",
       "      <th>sector</th>\n",
       "      <td>93.14</td>\n",
       "      <td>93.36</td>\n",
       "      <td>93.64</td>\n",
       "      <td>93.95</td>\n",
       "      <td>94.04</td>\n",
       "      <td>94.08</td>\n",
       "      <td>94.04</td>\n",
       "      <td>94.08</td>\n",
       "      <td>93.98</td>\n",
       "      <td>93.92</td>\n",
       "    </tr>\n",
       "    <tr>\n",
       "      <th>aloi</th>\n",
       "      <td>86.30</td>\n",
       "      <td>87.21</td>\n",
       "      <td>88.20</td>\n",
       "      <td>89.00</td>\n",
       "      <td>89.34</td>\n",
       "      <td>89.63</td>\n",
       "      <td>89.99</td>\n",
       "      <td>90.18</td>\n",
       "      <td>89.78</td>\n",
       "      <td>89.80</td>\n",
       "    </tr>\n",
       "  </tbody>\n",
       "</table>\n",
       "</div>"
      ],
      "text/plain": [
       "regularizer     -6     -5     -4     -3     -2     -1      0      1      2  \\\n",
       "data set                                                                     \n",
       "dna          94.77  94.77  94.94  94.69  93.59  93.09  92.24  92.24  92.16   \n",
       "satimage     82.35  82.50  82.95  83.55  83.55  84.10  84.35  84.20  84.05   \n",
       "mnist        92.34  92.28  92.41  92.37  92.26  92.13  92.12  91.98  91.94   \n",
       "news20       82.29  83.35  84.15  85.02  85.45  85.30  84.97  84.40  84.12   \n",
       "letter       69.98  71.02  71.74  71.52  71.36  71.46  71.20  71.56  71.44   \n",
       "rcv1         87.24  87.96  88.46  88.76  88.80  88.70  88.48  88.25  88.15   \n",
       "sector       93.14  93.36  93.64  93.95  94.04  94.08  94.04  94.08  93.98   \n",
       "aloi         86.30  87.21  88.20  89.00  89.34  89.63  89.99  90.18  89.78   \n",
       "\n",
       "regularizer      3  \n",
       "data set            \n",
       "dna          92.16  \n",
       "satimage     84.25  \n",
       "mnist        91.70  \n",
       "news20       84.07  \n",
       "letter       70.74  \n",
       "rcv1         88.03  \n",
       "sector       93.92  \n",
       "aloi         89.80  "
      ]
     },
     "execution_count": 23,
     "metadata": {},
     "output_type": "execute_result"
    }
   ],
   "source": [
    "df_acc"
   ]
  },
  {
   "cell_type": "markdown",
   "metadata": {},
   "source": [
    "## Color by dual gap decay ratio"
   ]
  },
  {
   "cell_type": "code",
   "execution_count": 24,
   "metadata": {
    "scrolled": true
   },
   "outputs": [
    {
     "name": "stderr",
     "output_type": "stream",
     "text": [
      "The PostScript backend does not support transparency; partially transparent artists will be rendered opaque.\n",
      "The PostScript backend does not support transparency; partially transparent artists will be rendered opaque.\n",
      "The PostScript backend does not support transparency; partially transparent artists will be rendered opaque.\n",
      "The PostScript backend does not support transparency; partially transparent artists will be rendered opaque.\n"
     ]
    },
    {
     "data": {
      "image/png": "[encoded data removed]",
      "text/plain": [
       "<Figure size 486x216 with 1 Axes>"
      ]
     },
     "metadata": {
      "needs_background": "light"
     },
     "output_type": "display_data"
    }
   ],
   "source": [
    "ds_metadata['xtick_name'] = ds_metadata['short_name'] + \"\\n\" + ds_metadata['nr_classes'].map(str)\n",
    "\n",
    "plt.figure(figsize=(6.75,3))\n",
    "\n",
    "\n",
    "# rcParams.update({'figure.autolayout': True})\n",
    "\n",
    "\n",
    "\n",
    "# color palette from https://stackoverflow.com/a/57157075\n",
    "colors = [\"#000000\", \"#E69F00\", \"#56B4E9\", \"#009E73\", \n",
    "                       \"#F0E442\", \"#0072B2\", \"#D55E00\", \"#CC79A7\"]\n",
    "\n",
    "sns.set_palette(sns.color_palette(colors))\n",
    "\n",
    "r1 = sns.swarmplot(x=\"short_name\", y=\"ratio\", data=df_time,\\\n",
    "                   hue = 'decay_factor', hue_order=[\"0.1\",\"0.01\",\"0.001\"])\n",
    "# ax = plt.gca()\n",
    "# cs = r1.collections[0]\n",
    "# cs.set_offset_position('data')\n",
    "# swarm_xy_coords = cs.get_offsets()\n",
    "\n",
    "\n",
    "# r1.legend(loc=(0.61,0.7),title = \"Dual gap decay factor\",ncol=3,handletextpad=-.1,columnspacing=-.1)\n",
    "r1.legend(loc='lower left',title = \"Duality gap decay $\\delta$\",ncol=3,handletextpad=-.1,columnspacing=-.1)\n",
    "\n",
    "arrow_x_coord = 4.5\n",
    "text_x_coord = arrow_x_coord+0.3\n",
    "walrus_y_coord = 1.3\n",
    "arrow_offset = 0.005\n",
    "shark_y_coord = walrus_y_coord + 0.15\n",
    "\n",
    "plt.annotate(\"\\u25b2\",xy=(arrow_x_coord,shark_y_coord + arrow_offset),fontsize=14, color ='gray')\n",
    "plt.annotate(\"\\u25bc\",xy=(arrow_x_coord,walrus_y_coord + arrow_offset),fontsize=14, color='gray')\n",
    "\n",
    "plt.annotate(\"Shark is faster\",xy=(text_x_coord,shark_y_coord),style='italic')\n",
    "plt.annotate(\"Walrus is faster\",xy=(text_x_coord,walrus_y_coord),style ='italic',)\n",
    "\n",
    "\n",
    "\n",
    "plt.axhline(y=1, color='gray', linestyle=':')\n",
    "plt.xlabel(\"Data set / Number of classes\")\n",
    "# plt.ylabel(\"Ratio of ours / Shark's time\")\n",
    "plt.ylabel(\"$\\mathtt{ET}^\\delta_{\\mathtt{Walrus}}\\, /\\, \\mathtt{ET}^\\delta_{\\mathtt{Shark}}$\")\n",
    "plt.title(\"Comparison of time to duality gap decay $\\delta$\")\n",
    "\n",
    "plt.xticks(range(ds_metadata.shape[0]), ds_metadata['xtick_name'])\n",
    "# plt.savefig('../figures/time_comparison_' + str(int(math.log10(ratio))) + '.eps',format='eps')\n",
    "plt.savefig('../figures/time_comparison.eps',format='eps',bbox_inches = \"tight\")"
   ]
  },
  {
   "cell_type": "code",
   "execution_count": 25,
   "metadata": {},
   "outputs": [
    {
     "data": {
      "image/png": "[encoded data removed]",
      "text/plain": [
       "<Figure size 576x216 with 1 Axes>"
      ]
     },
     "metadata": {
      "needs_background": "light"
     },
     "output_type": "display_data"
    }
   ],
   "source": [
    "import random\n",
    "random.random()\n",
    "plt.figure(figsize=(8,3))\n",
    "plt.axhline(y=1, color='r', linestyle='-')\n",
    "for index, row in df_time.iterrows():\n",
    "    x = row['ds_idx']\n",
    "    y = row['ratio']\n",
    "    mksz = 10\n",
    "    if row['regularizer'] < 1:\n",
    "        lab = \"$-\"+str(-int(row['reg_str']))+\"$\"\n",
    "    else:\n",
    "        lab = \"$+\"+str(int(row['reg_str']))+\"$\"\n",
    "    plt.plot(x + (random.random()-0.5)/2, y, marker=lab, color = \"black\", markersize=mksz)\n",
    "plt.xticks(range(ds_metadata.shape[0]), ds_metadata['xtick_name'])\n",
    "plt.savefig('../figures/time_comparison_reg_markers.eps',format='eps',bbox_inches = \"tight\")"
   ]
  }
 ],
 "metadata": {
  "kernelspec": {
   "display_name": "Python 3",
   "language": "python",
   "name": "python3"
  },
  "language_info": {
   "codemirror_mode": {
    "name": "ipython",
    "version": 3
   },
   "file_extension": ".py",
   "mimetype": "text/x-python",
   "name": "python",
   "nbconvert_exporter": "python",
   "pygments_lexer": "ipython3",
   "version": "3.7.4"
  }
 },
 "nbformat": 4,
 "nbformat_minor": 2
}
